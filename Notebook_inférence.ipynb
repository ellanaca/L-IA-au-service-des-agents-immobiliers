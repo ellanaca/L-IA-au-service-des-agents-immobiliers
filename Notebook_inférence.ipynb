{
 "cells": [
  {
   "cell_type": "markdown",
   "id": "f592efcf",
   "metadata": {},
   "source": [
    "# Import data"
   ]
  },
  {
   "cell_type": "code",
   "execution_count": 6,
   "id": "8b1a310b",
   "metadata": {},
   "outputs": [],
   "source": [
    "from sklearn import datasets\n",
    "import seaborn as sns\n",
    "import pandas as pd\n",
    "import matplotlib.pyplot as plt\n",
    "\n",
    "import statsmodels.api as sm\n",
    "from statsmodels.formula.api import ols\n",
    "from sklearn.model_selection import train_test_split\n",
    "import numpy as np"
   ]
  },
  {
   "cell_type": "code",
   "execution_count": 7,
   "id": "70f096bf",
   "metadata": {},
   "outputs": [],
   "source": [
    "columns = list(data_immo.drop(['Unnamed: 0','longitude','latitude'],axis = 1).columns)"
   ]
  },
  {
   "cell_type": "code",
   "execution_count": 8,
   "id": "f4812795",
   "metadata": {},
   "outputs": [],
   "source": [
    "columns_with = list(data_immo_with_imputation.drop(['Unnamed: 0','longitude','latitude'],axis = 1).columns)"
   ]
  },
  {
   "cell_type": "code",
   "execution_count": 9,
   "id": "f86ee82c",
   "metadata": {},
   "outputs": [
    {
     "name": "stdout",
     "output_type": "stream",
     "text": [
      "(-0.20208410793520576, 9.148243212284339e-142)\n",
      "(0.22124965651676992, 3.109038660095096e-170)\n",
      "(0.02507209558776385, 0.001851859501267346)\n",
      "(0.04420360835518704, 4.013543192974291e-08)\n",
      "(0.04956829672108344, 7.397454949379436e-10)\n",
      "(0.9999999999999998, 0.0)\n",
      "(0.640404475147838, 0.0)\n",
      "(-0.06582722402710177, 2.818091577017698e-16)\n"
     ]
    }
   ],
   "source": [
    "from scipy.stats import pearsonr\n",
    "# On pose les hypothèses de départ :\n",
    "\n",
    "# H0 : Variables indépendantes si p-value > 5% H1 : Variables non indépendantes si p-value < 5%\n",
    "\n",
    "# La première sortie correspond au coefficient de corrélation, la seconde à la p-value (ou probabilité critique)\n",
    "for i in columns:\n",
    "    test_personr = pearsonr(data_immo[i], data_immo['median_income'])\n",
    "    print(test_personr)\n",
    "# PearsonRResult(statistic=-0.08298589139832141, pvalue=1.278310306953696e-14)\n",
    "# H0 : Variables indépendantes si p-value > 5%\n",
    "# H1 : Variables non indépendantes si p-value < 5%"
   ]
  },
  {
   "cell_type": "code",
   "execution_count": 10,
   "id": "29efa800",
   "metadata": {},
   "outputs": [],
   "source": [
    "immo = data_immo.drop(['Unnamed: 0','longitude','latitude'],axis = 1)"
   ]
  },
  {
   "cell_type": "code",
   "execution_count": 11,
   "id": "273fd870",
   "metadata": {},
   "outputs": [],
   "source": [
    "immo_with = immo = data_immo_with_imputation.drop(['Unnamed: 0','longitude','latitude'],axis = 1)"
   ]
  },
  {
   "cell_type": "code",
   "execution_count": 12,
   "id": "2106c969",
   "metadata": {},
   "outputs": [
    {
     "name": "stdout",
     "output_type": "stream",
     "text": [
      "StandardScaler()\n",
      "[2.82688465e+01 2.61989269e+03 5.40107435e+02 1.45474354e+03\n",
      " 5.02854483e+02 3.62431698e+00 1.86363455e+05 8.95744129e-01]\n"
     ]
    }
   ],
   "source": [
    "from sklearn.preprocessing import StandardScaler\n",
    "\n",
    "scaler = StandardScaler()\n",
    "print(scaler.fit(immo))\n",
    "StandardScaler()\n",
    "print(scaler.mean_)\n",
    "scale_immo = scaler.transform(immo)"
   ]
  },
  {
   "cell_type": "code",
   "execution_count": 13,
   "id": "e203065c",
   "metadata": {},
   "outputs": [
    {
     "data": {
      "text/html": [
       "<div>\n",
       "<style scoped>\n",
       "    .dataframe tbody tr th:only-of-type {\n",
       "        vertical-align: middle;\n",
       "    }\n",
       "\n",
       "    .dataframe tbody tr th {\n",
       "        vertical-align: top;\n",
       "    }\n",
       "\n",
       "    .dataframe thead th {\n",
       "        text-align: right;\n",
       "    }\n",
       "</style>\n",
       "<table border=\"1\" class=\"dataframe\">\n",
       "  <thead>\n",
       "    <tr style=\"text-align: right;\">\n",
       "      <th></th>\n",
       "      <th>housing_median_age</th>\n",
       "      <th>total_rooms</th>\n",
       "      <th>total_bedrooms</th>\n",
       "      <th>population</th>\n",
       "      <th>households</th>\n",
       "      <th>median_income</th>\n",
       "      <th>median_house_value</th>\n",
       "      <th>ocean_proximity_number</th>\n",
       "    </tr>\n",
       "  </thead>\n",
       "  <tbody>\n",
       "    <tr>\n",
       "      <th>0</th>\n",
       "      <td>-1.783125</td>\n",
       "      <td>-0.346883</td>\n",
       "      <td>-0.157342</td>\n",
       "      <td>-0.049205</td>\n",
       "      <td>-0.220881</td>\n",
       "      <td>-1.412296</td>\n",
       "      <td>-1.271305</td>\n",
       "      <td>0.106141</td>\n",
       "    </tr>\n",
       "    <tr>\n",
       "      <th>1</th>\n",
       "      <td>-1.622979</td>\n",
       "      <td>-0.265917</td>\n",
       "      <td>-0.448075</td>\n",
       "      <td>-0.505091</td>\n",
       "      <td>-0.418983</td>\n",
       "      <td>2.167918</td>\n",
       "      <td>0.975311</td>\n",
       "      <td>-0.911937</td>\n",
       "    </tr>\n",
       "    <tr>\n",
       "      <th>2</th>\n",
       "      <td>-0.261745</td>\n",
       "      <td>-0.789255</td>\n",
       "      <td>-0.764599</td>\n",
       "      <td>-0.446295</td>\n",
       "      <td>-0.743148</td>\n",
       "      <td>-1.364904</td>\n",
       "      <td>-1.423599</td>\n",
       "      <td>0.106141</td>\n",
       "    </tr>\n",
       "    <tr>\n",
       "      <th>3</th>\n",
       "      <td>0.218691</td>\n",
       "      <td>-0.903693</td>\n",
       "      <td>-0.729429</td>\n",
       "      <td>-0.730904</td>\n",
       "      <td>-0.709702</td>\n",
       "      <td>-1.381514</td>\n",
       "      <td>0.151589</td>\n",
       "      <td>-0.911937</td>\n",
       "    </tr>\n",
       "    <tr>\n",
       "      <th>4</th>\n",
       "      <td>-0.582035</td>\n",
       "      <td>-0.315673</td>\n",
       "      <td>-0.391804</td>\n",
       "      <td>-0.276722</td>\n",
       "      <td>-0.336655</td>\n",
       "      <td>0.301350</td>\n",
       "      <td>-0.761064</td>\n",
       "      <td>0.106141</td>\n",
       "    </tr>\n",
       "    <tr>\n",
       "      <th>...</th>\n",
       "      <td>...</td>\n",
       "      <td>...</td>\n",
       "      <td>...</td>\n",
       "      <td>...</td>\n",
       "      <td>...</td>\n",
       "      <td>...</td>\n",
       "      <td>...</td>\n",
       "      <td>...</td>\n",
       "    </tr>\n",
       "    <tr>\n",
       "      <th>15409</th>\n",
       "      <td>-0.662108</td>\n",
       "      <td>-0.522385</td>\n",
       "      <td>-0.614543</td>\n",
       "      <td>-0.604790</td>\n",
       "      <td>-0.650529</td>\n",
       "      <td>-0.370319</td>\n",
       "      <td>-1.028968</td>\n",
       "      <td>0.106141</td>\n",
       "    </tr>\n",
       "    <tr>\n",
       "      <th>15410</th>\n",
       "      <td>1.659997</td>\n",
       "      <td>-0.115294</td>\n",
       "      <td>-0.084658</td>\n",
       "      <td>-0.275870</td>\n",
       "      <td>-0.115399</td>\n",
       "      <td>-0.666407</td>\n",
       "      <td>-0.925586</td>\n",
       "      <td>2.142296</td>\n",
       "    </tr>\n",
       "    <tr>\n",
       "      <th>15411</th>\n",
       "      <td>-0.742181</td>\n",
       "      <td>-0.040208</td>\n",
       "      <td>-0.185477</td>\n",
       "      <td>-0.211961</td>\n",
       "      <td>-0.190009</td>\n",
       "      <td>0.574434</td>\n",
       "      <td>0.069328</td>\n",
       "      <td>0.106141</td>\n",
       "    </tr>\n",
       "    <tr>\n",
       "      <th>15412</th>\n",
       "      <td>0.859271</td>\n",
       "      <td>0.070611</td>\n",
       "      <td>0.703135</td>\n",
       "      <td>0.929887</td>\n",
       "      <td>0.695015</td>\n",
       "      <td>-0.691653</td>\n",
       "      <td>-0.365322</td>\n",
       "      <td>-0.911937</td>\n",
       "    </tr>\n",
       "    <tr>\n",
       "      <th>15413</th>\n",
       "      <td>0.218691</td>\n",
       "      <td>-0.211639</td>\n",
       "      <td>-0.183132</td>\n",
       "      <td>-0.166798</td>\n",
       "      <td>-0.213163</td>\n",
       "      <td>-0.907325</td>\n",
       "      <td>-1.170146</td>\n",
       "      <td>1.124218</td>\n",
       "    </tr>\n",
       "  </tbody>\n",
       "</table>\n",
       "<p>15414 rows × 8 columns</p>\n",
       "</div>"
      ],
      "text/plain": [
       "       housing_median_age  total_rooms  total_bedrooms  population  \\\n",
       "0               -1.783125    -0.346883       -0.157342   -0.049205   \n",
       "1               -1.622979    -0.265917       -0.448075   -0.505091   \n",
       "2               -0.261745    -0.789255       -0.764599   -0.446295   \n",
       "3                0.218691    -0.903693       -0.729429   -0.730904   \n",
       "4               -0.582035    -0.315673       -0.391804   -0.276722   \n",
       "...                   ...          ...             ...         ...   \n",
       "15409           -0.662108    -0.522385       -0.614543   -0.604790   \n",
       "15410            1.659997    -0.115294       -0.084658   -0.275870   \n",
       "15411           -0.742181    -0.040208       -0.185477   -0.211961   \n",
       "15412            0.859271     0.070611        0.703135    0.929887   \n",
       "15413            0.218691    -0.211639       -0.183132   -0.166798   \n",
       "\n",
       "       households  median_income  median_house_value  ocean_proximity_number  \n",
       "0       -0.220881      -1.412296           -1.271305                0.106141  \n",
       "1       -0.418983       2.167918            0.975311               -0.911937  \n",
       "2       -0.743148      -1.364904           -1.423599                0.106141  \n",
       "3       -0.709702      -1.381514            0.151589               -0.911937  \n",
       "4       -0.336655       0.301350           -0.761064                0.106141  \n",
       "...           ...            ...                 ...                     ...  \n",
       "15409   -0.650529      -0.370319           -1.028968                0.106141  \n",
       "15410   -0.115399      -0.666407           -0.925586                2.142296  \n",
       "15411   -0.190009       0.574434            0.069328                0.106141  \n",
       "15412    0.695015      -0.691653           -0.365322               -0.911937  \n",
       "15413   -0.213163      -0.907325           -1.170146                1.124218  \n",
       "\n",
       "[15414 rows x 8 columns]"
      ]
     },
     "execution_count": 13,
     "metadata": {},
     "output_type": "execute_result"
    }
   ],
   "source": [
    "scale_immo_to_df = pd.DataFrame(scale_immo)\n",
    "scale_immo_to_df = scale_immo_to_df.rename(columns={0:'housing_median_age', 1:'total_rooms',2:'total_bedrooms',3:'population',4:'households',5:'median_income',6:'median_house_value',7:'ocean_proximity_number'}, errors='raise')\n",
    "scale_immo_to_df"
   ]
  },
  {
   "cell_type": "code",
   "execution_count": 14,
   "id": "e7e0b8bd",
   "metadata": {},
   "outputs": [
    {
     "data": {
      "text/plain": [
       "<AxesSubplot:>"
      ]
     },
     "execution_count": 14,
     "metadata": {},
     "output_type": "execute_result"
    },
    {
     "data": {
      "image/png": "[encoded data removed]",
      "text/plain": [
       "<Figure size 640x480 with 1 Axes>"
      ]
     },
     "metadata": {},
     "output_type": "display_data"
    }
   ],
   "source": [
    "sns.boxplot(data = scale_immo_to_df)"
   ]
  }
 ],
 "metadata": {
  "kernelspec": {
   "display_name": "Python 3 (ipykernel)",
   "language": "python",
   "name": "python3"
  },
  "language_info": {
   "codemirror_mode": {
    "name": "ipython",
    "version": 3
   },
   "file_extension": ".py",
   "mimetype": "text/x-python",
   "name": "python",
   "nbconvert_exporter": "python",
   "pygments_lexer": "ipython3",
   "version": "3.8.12"
  },
  "toc": {
   "base_numbering": 1,
   "nav_menu": {},
   "number_sections": true,
   "sideBar": true,
   "skip_h1_title": false,
   "title_cell": "Table of Contents",
   "title_sidebar": "Contents",
   "toc_cell": false,
   "toc_position": {},
   "toc_section_display": true,
   "toc_window_display": false
  }
 },
 "nbformat": 4,
 "nbformat_minor": 5
}
