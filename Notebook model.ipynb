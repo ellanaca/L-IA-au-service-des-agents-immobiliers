{
 "cells": [
  {
   "cell_type": "code",
   "execution_count": 14,
   "id": "9e574a18",
   "metadata": {},
   "outputs": [],
   "source": [
    "# Imports \n",
    "import numpy as np\n",
    "import pandas as pd\n",
    "import matplotlib.pyplot as plt\n",
    "import seaborn as sns\n",
    "\n",
    "from sklearn.model_selection import train_test_split\n",
    "from sklearn.model_selection import cross_validate\n",
    "from sklearn.model_selection import cross_val_score\n",
    "from sklearn.model_selection import cross_val_predict\n",
    "\n",
    "from sklearn.linear_model import LinearRegression\n",
    "from sklearn.dummy import DummyClassifier\n",
    "from sklearn.neighbors import KNeighborsClassifier\n",
    "\n",
    "from sklearn.metrics import accuracy_score, precision_score, recall_score, f1_score, \\\n",
    "    confusion_matrix, classification_report\n",
    "\n",
    "from sklearn.metrics import roc_auc_score, plot_roc_curve, roc_curve\n",
    "from sklearn.metrics import average_precision_score\n",
    "from sklearn.metrics import precision_recall_curve,plot_precision_recall_curve\n",
    "\n",
    "from sklearn.model_selection import learning_curve\n",
    "\n",
    "from statsmodels.stats.outliers_influence import variance_inflation_factor as vif\n",
    "\n",
    "from sklearn.inspection import permutation_importance\n",
    "#import warnings\n",
    "#warnings.simplefilter(action=\"ignore\")"
   ]
  },
  {
   "cell_type": "markdown",
   "id": "ba6e8abb",
   "metadata": {},
   "source": [
    "# Baseline model"
   ]
  },
  {
   "cell_type": "code",
   "execution_count": 7,
   "id": "da913257",
   "metadata": {},
   "outputs": [],
   "source": [
    "immo = pd.read_csv(\"immo.csv\")"
   ]
  },
  {
   "cell_type": "code",
   "execution_count": 8,
   "id": "35e835fc",
   "metadata": {},
   "outputs": [],
   "source": [
    "# define X, y\n",
    "y = immo[\"ocean_proximity_number\"]\n",
    "X = immo.drop(\"ocean_proximity_number\", axis=1)"
   ]
  },
  {
   "cell_type": "code",
   "execution_count": 9,
   "id": "7b2bead2",
   "metadata": {},
   "outputs": [
    {
     "data": {
      "text/plain": [
       "0.43564292201894383"
      ]
     },
     "execution_count": 9,
     "metadata": {},
     "output_type": "execute_result"
    }
   ],
   "source": [
    "# instantiate Dummy classifier\n",
    "dummy_clf = DummyClassifier(strategy=\"most_frequent\")\n",
    "\n",
    "# fit the modem\n",
    "dummy_clf.fit(X, y)\n",
    "\n",
    "# calculate the score\n",
    "dummy_clf.score(X, y)"
   ]
  },
  {
   "cell_type": "markdown",
   "id": "8ffdccf4",
   "metadata": {},
   "source": [
    "---Now we can see the score of my baseline: 0.43---"
   ]
  },
  {
   "cell_type": "code",
   "execution_count": 11,
   "id": "bf62ef0e",
   "metadata": {},
   "outputs": [
    {
     "data": {
      "text/plain": [
       "0.4428294573643411"
      ]
     },
     "execution_count": 11,
     "metadata": {},
     "output_type": "execute_result"
    }
   ],
   "source": [
    "# instantiate Dummy classifier\n",
    "dummy_clf = DummyClassifier(strategy=\"most_frequent\")\n",
    "\n",
    "# fit the modem\n",
    "dummy_clf.fit(X, y)\n",
    "\n",
    "# calculate the score\n",
    "dummy_clf.score(X, y)"
   ]
  },
  {
   "cell_type": "markdown",
   "id": "e5609d11",
   "metadata": {},
   "source": [
    "---We can see a little improvement with the dataset : immo_with_outliers_and_imput and immo_with_outliers---"
   ]
  },
  {
   "cell_type": "markdown",
   "id": "855072a6",
   "metadata": {},
   "source": [
    "---for now i'll keep the outliers---"
   ]
  },
  {
   "cell_type": "markdown",
   "id": "658fd40d",
   "metadata": {},
   "source": [
    "# First iteration"
   ]
  },
  {
   "cell_type": "code",
   "execution_count": 11,
   "id": "e8898791",
   "metadata": {},
   "outputs": [],
   "source": [
    "immo_with_imput = pd.read_csv(\"immo_with_imput.csv\")"
   ]
  },
  {
   "cell_type": "code",
   "execution_count": 34,
   "id": "4e8d5c9d",
   "metadata": {},
   "outputs": [],
   "source": [
    "def Lineareg(data):\n",
    "    y = data[\"median_house_value\"]\n",
    "    X = data.drop(\"median_house_value\", axis=1)\n",
    "    X_train, X_test, y_train, y_test = train_test_split(X, y, test_size=.3, random_state=1)\n",
    "    model = LinearRegression()\n",
    "    model.fit(X_train, y_train)\n",
    "    print(f'model score: {model.score(X_test, y_test)}')\n",
    "\n",
    "    K = []\n",
    "    total_time = []\n",
    "    score = []\n",
    "    for k in range(2,20):\n",
    "        cross_val_results = cross_validate(model, X, y, cv=k)\n",
    "        total_time.append(sum(cross_val_results['fit_time'])+sum(cross_val_results['score_time']))\n",
    "        K.append(k)\n",
    "        score.append(cross_val_results['test_score'].mean())\n",
    "    best_cv = pd.DataFrame({'K': K,'score': score})\n",
    "    cross = best_cv.query(f'score=={max(score)}')['K'].item()\n",
    "    cv_results = cross_validate(model,X, y,cv=cross, scoring=('r2', 'neg_root_mean_squared_error','neg_mean_absolute_error'))\n",
    "    r2 = cv_results['test_r2'].mean()\n",
    "    rmse = cv_results['test_neg_root_mean_squared_error'].mean()\n",
    "    print(f'r2: {r2}')\n",
    "    print(f'rmse: {rmse}')"
   ]
  },
  {
   "cell_type": "code",
   "execution_count": 35,
   "id": "1894f236",
   "metadata": {},
   "outputs": [
    {
     "name": "stdout",
     "output_type": "stream",
     "text": [
      "model score: 0.6058961194280346\n",
      "r2: 0.6016233887270823\n",
      "rmse: -56747.678579654465\n"
     ]
    }
   ],
   "source": [
    "Lineareg(immo_with_imput)"
   ]
  },
  {
   "cell_type": "markdown",
   "id": "b7cdf646",
   "metadata": {},
   "source": [
    "# Second iteration"
   ]
  },
  {
   "cell_type": "code",
   "execution_count": 36,
   "id": "bf38a90f",
   "metadata": {},
   "outputs": [],
   "source": [
    "immo_with_outliers = pd.read_csv(\"immo_with_outliers.csv\")\n",
    "immo_with_outliers_and_imput = pd.read_csv(\"immo_with_outliers_and_imput.csv\")"
   ]
  },
  {
   "cell_type": "code",
   "execution_count": 37,
   "id": "d03facbf",
   "metadata": {},
   "outputs": [
    {
     "name": "stdout",
     "output_type": "stream",
     "text": [
      "model score: 0.6324224669228723\n",
      "r2: 0.6353530950356457\n",
      "rmse: -69539.75736337178\n"
     ]
    }
   ],
   "source": [
    "Lineareg(immo_with_outliers)"
   ]
  },
  {
   "cell_type": "code",
   "execution_count": 38,
   "id": "84387314",
   "metadata": {},
   "outputs": [
    {
     "name": "stdout",
     "output_type": "stream",
     "text": [
      "model score: 0.6324224669228723\n",
      "r2: 0.6353530950356457\n",
      "rmse: -69539.75736337178\n"
     ]
    }
   ],
   "source": [
    "Lineareg(immo_with_outliers_and_imput)"
   ]
  }
 ],
 "metadata": {
  "kernelspec": {
   "display_name": "Python 3 (ipykernel)",
   "language": "python",
   "name": "python3"
  },
  "language_info": {
   "codemirror_mode": {
    "name": "ipython",
    "version": 3
   },
   "file_extension": ".py",
   "mimetype": "text/x-python",
   "name": "python",
   "nbconvert_exporter": "python",
   "pygments_lexer": "ipython3",
   "version": "3.8.12"
  },
  "toc": {
   "base_numbering": 1,
   "nav_menu": {},
   "number_sections": true,
   "sideBar": true,
   "skip_h1_title": false,
   "title_cell": "Table of Contents",
   "title_sidebar": "Contents",
   "toc_cell": false,
   "toc_position": {},
   "toc_section_display": true,
   "toc_window_display": false
  }
 },
 "nbformat": 4,
 "nbformat_minor": 5
}
