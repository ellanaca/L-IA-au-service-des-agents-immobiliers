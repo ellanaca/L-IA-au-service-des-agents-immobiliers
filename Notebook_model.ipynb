{
 "cells": [
  {
   "cell_type": "code",
   "execution_count": 24,
   "id": "9e574a18",
   "metadata": {},
   "outputs": [],
   "source": [
    "# Imports \n",
    "import numpy as np\n",
    "import pandas as pd\n",
    "import matplotlib.pyplot as plt\n",
    "import seaborn as sns\n",
    "\n",
    "from sklearn.model_selection import train_test_split\n",
    "from sklearn.model_selection import cross_validate\n",
    "from sklearn.model_selection import cross_val_score\n",
    "from sklearn.model_selection import cross_val_predict\n",
    "\n",
    "from sklearn.linear_model import LinearRegression\n",
    "from sklearn.dummy import DummyClassifier\n",
    "from sklearn.neighbors import KNeighborsClassifier\n",
    "\n",
    "from sklearn.metrics import accuracy_score, precision_score, recall_score, f1_score, \\\n",
    "    confusion_matrix, classification_report\n",
    "\n",
    "from sklearn.metrics import roc_auc_score, plot_roc_curve, roc_curve\n",
    "from sklearn.metrics import average_precision_score\n",
    "from sklearn.metrics import precision_recall_curve,plot_precision_recall_curve\n",
    "\n",
    "from sklearn.model_selection import learning_curve\n",
    "\n",
    "from statsmodels.stats.outliers_influence import variance_inflation_factor as vif\n",
    "\n",
    "from sklearn.inspection import permutation_importance\n",
    "from sklearn.preprocessing import StandardScaler\n",
    "from sklearn.preprocessing import OneHotEncoder\n",
    "#import warnings\n",
    "#warnings.simplefilter(action=\"ignore\")"
   ]
  },
  {
   "cell_type": "markdown",
   "id": "ba6e8abb",
   "metadata": {},
   "source": [
    "# Baseline model"
   ]
  },
  {
   "cell_type": "code",
   "execution_count": 28,
   "id": "da913257",
   "metadata": {},
   "outputs": [],
   "source": [
    "immo = pd.read_csv(\"immo.csv\")"
   ]
  },
  {
   "cell_type": "code",
   "execution_count": 3,
   "id": "35e835fc",
   "metadata": {},
   "outputs": [],
   "source": [
    "# define X, y\n",
    "y = immo[\"ocean_proximity_number\"]\n",
    "X = immo.drop(\"ocean_proximity_number\", axis=1)"
   ]
  },
  {
   "cell_type": "code",
   "execution_count": 4,
   "id": "7b2bead2",
   "metadata": {},
   "outputs": [
    {
     "data": {
      "text/plain": [
       "0.43564292201894383"
      ]
     },
     "execution_count": 4,
     "metadata": {},
     "output_type": "execute_result"
    }
   ],
   "source": [
    "# instantiate Dummy classifier\n",
    "dummy_clf = DummyClassifier(strategy=\"most_frequent\")\n",
    "\n",
    "# fit the modem\n",
    "dummy_clf.fit(X, y)\n",
    "\n",
    "# calculate the score\n",
    "dummy_clf.score(X, y)"
   ]
  },
  {
   "cell_type": "markdown",
   "id": "8ffdccf4",
   "metadata": {},
   "source": [
    "---Now we can see the score of my baseline: 0.43---"
   ]
  },
  {
   "cell_type": "code",
   "execution_count": 5,
   "id": "bf62ef0e",
   "metadata": {},
   "outputs": [
    {
     "data": {
      "text/plain": [
       "0.43564292201894383"
      ]
     },
     "execution_count": 5,
     "metadata": {},
     "output_type": "execute_result"
    }
   ],
   "source": [
    "# instantiate Dummy classifier\n",
    "dummy_clf = DummyClassifier(strategy=\"most_frequent\")\n",
    "\n",
    "# fit the modem\n",
    "dummy_clf.fit(X, y)\n",
    "\n",
    "# calculate the score\n",
    "dummy_clf.score(X, y)"
   ]
  },
  {
   "cell_type": "markdown",
   "id": "e5609d11",
   "metadata": {},
   "source": [
    "---We can see a little improvement with the dataset : immo_with_outliers_and_imput and immo_with_outliers---"
   ]
  },
  {
   "cell_type": "markdown",
   "id": "855072a6",
   "metadata": {},
   "source": [
    "---for now i'll keep the outliers---"
   ]
  },
  {
   "cell_type": "markdown",
   "id": "658fd40d",
   "metadata": {},
   "source": [
    "# First iteration"
   ]
  },
  {
   "cell_type": "code",
   "execution_count": 6,
   "id": "e8898791",
   "metadata": {},
   "outputs": [],
   "source": [
    "immo_with_imput = pd.read_csv(\"immo_with_imput.csv\")"
   ]
  },
  {
   "cell_type": "code",
   "execution_count": 4,
   "id": "4e8d5c9d",
   "metadata": {},
   "outputs": [],
   "source": [
    "def Lineareg(data):\n",
    "    y = data[\"median_house_value\"]\n",
    "    X = data.drop(\"median_house_value\", axis=1)\n",
    "    X_train, X_test, y_train, y_test = train_test_split(X, y, test_size=.3, random_state=1)\n",
    "    model = LinearRegression()\n",
    "    model.fit(X_train, y_train)\n",
    "    print(f'model score: {model.score(X_test, y_test)}')\n",
    "\n",
    "    K = []\n",
    "    total_time = []\n",
    "    score = []\n",
    "    for k in range(2,20):\n",
    "        cross_val_results = cross_validate(model, X, y, cv=k)\n",
    "        total_time.append(sum(cross_val_results['fit_time'])+sum(cross_val_results['score_time']))\n",
    "        K.append(k)\n",
    "        score.append(cross_val_results['test_score'].mean())\n",
    "    best_cv = pd.DataFrame({'K': K,'score': score})\n",
    "    cross = best_cv.query(f'score=={max(score)}')['K'].item()\n",
    "    cv_results = cross_validate(model,X, y,cv=cross, scoring=('r2', 'neg_root_mean_squared_error','neg_mean_absolute_error'))\n",
    "    r2 = cv_results['test_r2'].mean()\n",
    "    rmse = cv_results['test_neg_root_mean_squared_error'].mean()\n",
    "    print(f'r2: {r2}')\n",
    "    print(f'rmse: {rmse}')"
   ]
  },
  {
   "cell_type": "code",
   "execution_count": 8,
   "id": "1894f236",
   "metadata": {},
   "outputs": [
    {
     "name": "stdout",
     "output_type": "stream",
     "text": [
      "model score: 0.6058961194280346\n",
      "r2: 0.6016233887270823\n",
      "rmse: -56747.678579654465\n"
     ]
    }
   ],
   "source": [
    "Lineareg(immo_with_imput)"
   ]
  },
  {
   "cell_type": "markdown",
   "id": "b7cdf646",
   "metadata": {},
   "source": [
    "# Second iteration"
   ]
  },
  {
   "cell_type": "code",
   "execution_count": 9,
   "id": "bf38a90f",
   "metadata": {},
   "outputs": [],
   "source": [
    "immo_with_outliers = pd.read_csv(\"immo_with_outliers.csv\")\n",
    "immo_with_outliers_and_imput = pd.read_csv(\"immo_with_outliers_and_imput.csv\")"
   ]
  },
  {
   "cell_type": "code",
   "execution_count": 10,
   "id": "d03facbf",
   "metadata": {},
   "outputs": [
    {
     "name": "stdout",
     "output_type": "stream",
     "text": [
      "model score: 0.6324224669228723\n",
      "r2: 0.6353530950356457\n",
      "rmse: -69539.75736337178\n"
     ]
    }
   ],
   "source": [
    "Lineareg(immo_with_outliers)"
   ]
  },
  {
   "cell_type": "code",
   "execution_count": 11,
   "id": "84387314",
   "metadata": {},
   "outputs": [
    {
     "name": "stdout",
     "output_type": "stream",
     "text": [
      "model score: 0.6324224669228723\n",
      "r2: 0.6353530950356457\n",
      "rmse: -69539.75736337178\n"
     ]
    }
   ],
   "source": [
    "Lineareg(immo_with_outliers_and_imput)"
   ]
  },
  {
   "cell_type": "markdown",
   "id": "d553dfce",
   "metadata": {},
   "source": [
    "# Fourth iteration"
   ]
  },
  {
   "cell_type": "code",
   "execution_count": 15,
   "id": "095fbf0c",
   "metadata": {},
   "outputs": [],
   "source": [
    "one_hot_iteration = pd.read_csv(\"one_hot_iteration.csv\")"
   ]
  },
  {
   "cell_type": "code",
   "execution_count": 17,
   "id": "7f4b56b1",
   "metadata": {},
   "outputs": [
    {
     "name": "stdout",
     "output_type": "stream",
     "text": [
      "model score: 0.6449267551867998\n",
      "r2: 0.6465210485347069\n",
      "rmse: -68484.3730358486\n"
     ]
    }
   ],
   "source": [
    "Lineareg(one_hot_iteration)"
   ]
  },
  {
   "cell_type": "markdown",
   "id": "b016a263",
   "metadata": {},
   "source": [
    "# Fifth iteration "
   ]
  },
  {
   "cell_type": "code",
   "execution_count": 18,
   "id": "a32fa207",
   "metadata": {},
   "outputs": [],
   "source": [
    "by_mean_imput = pd.read_csv(\"by_mean_imput.csv\")"
   ]
  },
  {
   "cell_type": "code",
   "execution_count": 19,
   "id": "a6abf1de",
   "metadata": {},
   "outputs": [
    {
     "name": "stdout",
     "output_type": "stream",
     "text": [
      "model score: 0.6449807236042429\n",
      "r2: 0.6466023555655033\n",
      "rmse: -68476.61129675338\n"
     ]
    }
   ],
   "source": [
    "Lineareg(by_mean_imput)"
   ]
  },
  {
   "cell_type": "markdown",
   "id": "9b0bffba",
   "metadata": {},
   "source": [
    "# Sixth iteration"
   ]
  },
  {
   "cell_type": "code",
   "execution_count": 8,
   "id": "e7a92cb7",
   "metadata": {},
   "outputs": [],
   "source": [
    "data_scale = pd.read_csv(\"data_scale.csv\")"
   ]
  },
  {
   "cell_type": "code",
   "execution_count": 9,
   "id": "4e602057",
   "metadata": {},
   "outputs": [
    {
     "name": "stdout",
     "output_type": "stream",
     "text": [
      "model score: 0.6449807236042486\n",
      "r2: 0.6466023555655057\n",
      "rmse: -68476.61129675315\n"
     ]
    }
   ],
   "source": [
    "Lineareg(data_scale)"
   ]
  },
  {
   "cell_type": "markdown",
   "id": "05be8bab",
   "metadata": {},
   "source": [
    "# Seventh iteration"
   ]
  },
  {
   "cell_type": "code",
   "execution_count": 10,
   "id": "76586080",
   "metadata": {},
   "outputs": [],
   "source": [
    "data_0 = pd.read_csv(\"data_0.csv\")"
   ]
  },
  {
   "cell_type": "code",
   "execution_count": 11,
   "id": "ab76f4bd",
   "metadata": {},
   "outputs": [
    {
     "name": "stdout",
     "output_type": "stream",
     "text": [
      "model score: 0.6442060028166736\n",
      "r2: 0.6457534140213687\n",
      "rmse: -68533.39384940882\n"
     ]
    }
   ],
   "source": [
    "Lineareg(data_0)"
   ]
  },
  {
   "cell_type": "markdown",
   "id": "7c6b123b",
   "metadata": {},
   "source": [
    "---i can see my model's going bad with the imputation by 0, i'm running out of time, and i'm going to choose my 6th iteration---"
   ]
  },
  {
   "cell_type": "markdown",
   "id": "adaa28d9",
   "metadata": {},
   "source": [
    "# Pipeline"
   ]
  },
  {
   "cell_type": "code",
   "execution_count": 25,
   "id": "67e53b35",
   "metadata": {},
   "outputs": [],
   "source": [
    "def Iteration_scaler(data):\n",
    "    #imputation\n",
    "    mean = data['total_bedrooms'].mean()\n",
    "    data = data.fillna(mean)\n",
    "    #encoding\n",
    "    enc = OneHotEncoder(sparse=False).fit(data[['ocean_proximity']])\n",
    "    encoded = enc.transform(data[['ocean_proximity']])\n",
    "    encoded_df = pd.DataFrame(encoded, columns=enc.get_feature_names_out())\n",
    "    data_df = pd.concat([data, encoded_df], axis = 1)\n",
    "    encoding_df = data_df.drop(['ocean_proximity'], axis = 1)\n",
    "    #scaler\n",
    "    scaler_df = encoding_df.drop(['median_house_value','Unnamed: 0','longitude','latitude','ocean_proximity_<1H OCEAN','ocean_proximity_INLAND','ocean_proximity_ISLAND','ocean_proximity_NEAR BAY','ocean_proximity_NEAR OCEAN'],axis = 1)\n",
    "    scaler = StandardScaler()\n",
    "    scaler.fit(scaler_df)\n",
    "    scale = scaler.transform(scaler_df)\n",
    "    scale_to_df = pd.DataFrame(scale)\n",
    "    name_scale_columns = scale_to_df.rename(columns={0:'housing_median_age', 1:'total_rooms',2:'total_bedrooms',3:'population',4:'households',5:'median_income'}, errors='raise')\n",
    "    concat_scale_df = pd.concat([encoding_df[['Unnamed: 0','longitude','latitude','ocean_proximity_<1H OCEAN','ocean_proximity_INLAND','ocean_proximity_ISLAND','ocean_proximity_NEAR BAY','ocean_proximity_NEAR OCEAN','median_house_value']], name_scale_columns], axis = 1)\n",
    "    #drop = concat_scale_df.drop(['ocean_proximity'], axis = 1)\n",
    "    return concat_scale_df"
   ]
  },
  {
   "cell_type": "code",
   "execution_count": 26,
   "id": "f4ea8965",
   "metadata": {},
   "outputs": [],
   "source": [
    "def Pipeline(data):\n",
    "    return Lineareg(Iteration_scaler(data))"
   ]
  },
  {
   "cell_type": "code",
   "execution_count": null,
   "id": "31b07b92",
   "metadata": {},
   "outputs": [],
   "source": []
  }
 ],
 "metadata": {
  "kernelspec": {
   "display_name": "Python 3 (ipykernel)",
   "language": "python",
   "name": "python3"
  },
  "language_info": {
   "codemirror_mode": {
    "name": "ipython",
    "version": 3
   },
   "file_extension": ".py",
   "mimetype": "text/x-python",
   "name": "python",
   "nbconvert_exporter": "python",
   "pygments_lexer": "ipython3",
   "version": "3.8.12"
  },
  "toc": {
   "base_numbering": 1,
   "nav_menu": {},
   "number_sections": true,
   "sideBar": true,
   "skip_h1_title": false,
   "title_cell": "Table of Contents",
   "title_sidebar": "Contents",
   "toc_cell": false,
   "toc_position": {},
   "toc_section_display": true,
   "toc_window_display": false
  }
 },
 "nbformat": 4,
 "nbformat_minor": 5
}
