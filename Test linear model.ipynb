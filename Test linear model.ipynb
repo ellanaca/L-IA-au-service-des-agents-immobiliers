{
 "cells": [
  {
   "cell_type": "code",
   "execution_count": 1,
   "id": "e5735967",
   "metadata": {},
   "outputs": [],
   "source": [
    "import numpy as np\n",
    "import pandas as pd\n",
    "from sklearn.preprocessing import OneHotEncoder\n",
    "from sklearn.metrics import mean_squared_error\n",
    "from sklearn.linear_model import LinearRegression\n",
    "from sklearn.pipeline import Pipeline\n",
    "import pickle"
   ]
  },
  {
   "cell_type": "code",
   "execution_count": 2,
   "id": "bfb2f028",
   "metadata": {},
   "outputs": [],
   "source": [
    "data_immo = pd.read_csv(\"immo.csv\")\n",
    "data_immo_with_imputation = pd.read_csv(\"immo_with_imput.csv\")"
   ]
  },
  {
   "cell_type": "code",
   "execution_count": 3,
   "id": "93ba246c",
   "metadata": {},
   "outputs": [],
   "source": [
    "columns = list(data_immo.drop(['Unnamed: 0','longitude','latitude'],axis = 1).columns)"
   ]
  },
  {
   "cell_type": "code",
   "execution_count": 4,
   "id": "bca8004b",
   "metadata": {},
   "outputs": [],
   "source": [
    "columns_with = list(data_immo_with_imputation.drop(['Unnamed: 0','longitude','latitude'],axis = 1).columns)"
   ]
  },
  {
   "cell_type": "code",
   "execution_count": 5,
   "id": "eeb24bb4",
   "metadata": {},
   "outputs": [],
   "source": [
    "def create_train_test_data(dataset):\n",
    "    # load and split the data\n",
    "    data_train = dataset.sample(frac=0.8, \\\n",
    "    random_state=30).reset_index(drop=True)\n",
    "\n",
    "    data_test = \\\n",
    "    dataset.drop(data_train.index).reset_index(drop=True)\n",
    "\n",
    "    # save the data\n",
    "    data_train.to_csv('train.csv', index=False)\n",
    "    data_test.to_csv('test.csv', index=False)\n",
    "\n",
    "    print(f\"Train data for modeling: {data_train.shape}\")\n",
    "    print(f\"Test data for predictions: {data_test.shape}\")"
   ]
  },
  {
   "cell_type": "code",
   "execution_count": 6,
   "id": "5bb6bd50",
   "metadata": {},
   "outputs": [],
   "source": [
    "def train_model(x_train, y_train):\n",
    "\n",
    "    print(\"Training the model ...\")\n",
    "\n",
    "    model = Pipeline(steps=[\n",
    "        (\"label encoding\", \\\n",
    "        OneHotEncoder(handle_unknown='ignore')),\n",
    "        (\"tree model\", LinearRegression())\n",
    "    ])\n",
    "    model.fit(x_train, y_train)\n",
    "\n",
    "    return model"
   ]
  },
  {
   "cell_type": "code",
   "execution_count": 7,
   "id": "850d3863",
   "metadata": {},
   "outputs": [],
   "source": [
    "def accuracy(model, x_test, y_test):\n",
    "    print(\"Testing the model ...\")\n",
    "    predictions = model.predict(x_test)\n",
    "    tree_mse = mean_squared_error(y_test, predictions)\n",
    "    tree_rmse = np.sqrt(tree_mse)\n",
    "    return tree_rmse"
   ]
  },
  {
   "cell_type": "code",
   "execution_count": 8,
   "id": "9bff04f3",
   "metadata": {},
   "outputs": [],
   "source": [
    "def export_model(model):\n",
    "    # Save the model\n",
    "    pkl_path = 'model.pkl'\n",
    "    with open(pkl_path, 'wb') as file:\n",
    "        pickle.dump(model, file)\n",
    "        print(f\"Model saved at {pkl_path}\")"
   ]
  },
  {
   "cell_type": "code",
   "execution_count": 10,
   "id": "f3aba703",
   "metadata": {},
   "outputs": [],
   "source": [
    "def main():\n",
    "    # Load the whole data\n",
    "    data = pd.read_csv('immo.csv', \\\n",
    "    keep_default_na=False, index_col=0)\n",
    "\n",
    "    # Split train/test\n",
    "    # Creates train.csv and test.csv\n",
    "    create_train_test_data(data)\n",
    "\n",
    "    # Loads the data for the model training\n",
    "    train = pd.read_csv('train.csv', keep_default_na=False)\n",
    "    x_train = train.drop(columns=['median_house_value'])\n",
    "    y_train = train['median_house_value']\n",
    "\n",
    "    # Loads the data for the model testing\n",
    "    test = pd.read_csv('test.csv', keep_default_na=False)\n",
    "    x_test = test.drop(columns=['median_house_value'])\n",
    "    y_test = test['median_house_value']\n",
    "\n",
    "    # Train and Test\n",
    "    model = train_model(x_train, y_train)\n",
    "    rmse_test = accuracy(model, x_test, y_test)\n",
    "\n",
    "    print(f\"Average median_house_value: {y_test.mean()}\")\n",
    "    print(f\"RMSE: {rmse_test}\")\n",
    "\n",
    "    # Save the model\n",
    "    export_model(model)"
   ]
  },
  {
   "cell_type": "code",
   "execution_count": null,
   "id": "e550294b",
   "metadata": {},
   "outputs": [],
   "source": []
  }
 ],
 "metadata": {
  "kernelspec": {
   "display_name": "Python 3 (ipykernel)",
   "language": "python",
   "name": "python3"
  },
  "language_info": {
   "codemirror_mode": {
    "name": "ipython",
    "version": 3
   },
   "file_extension": ".py",
   "mimetype": "text/x-python",
   "name": "python",
   "nbconvert_exporter": "python",
   "pygments_lexer": "ipython3",
   "version": "3.8.12"
  },
  "toc": {
   "base_numbering": 1,
   "nav_menu": {},
   "number_sections": true,
   "sideBar": true,
   "skip_h1_title": false,
   "title_cell": "Table of Contents",
   "title_sidebar": "Contents",
   "toc_cell": false,
   "toc_position": {},
   "toc_section_display": true,
   "toc_window_display": false
  }
 },
 "nbformat": 4,
 "nbformat_minor": 5
}
